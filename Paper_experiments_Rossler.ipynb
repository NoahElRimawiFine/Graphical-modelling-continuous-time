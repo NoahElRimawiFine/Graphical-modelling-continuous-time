{
 "cells": [
  {
   "cell_type": "markdown",
   "metadata": {},
   "source": [
    "Rossler performance experiments"
   ]
  },
  {
   "cell_type": "code",
   "execution_count": 1,
   "metadata": {},
   "outputs": [],
   "source": [
    "import numpy as np\n",
    "import torch\n",
    "import sys\n",
    "import matplotlib.pyplot as plt\n",
    "from scipy.interpolate import UnivariateSpline\n",
    "from IPython.display import clear_output\n",
    "\n",
    "sys.path.append('../')\n",
    "from source.utils import compare_graphs\n",
    "import source.utils as utils\n",
    "import source.NMC as models\n",
    "import importlib"
   ]
  },
  {
   "cell_type": "markdown",
   "metadata": {},
   "source": [
    "## SVAM"
   ]
  },
  {
   "cell_type": "code",
   "execution_count": 19,
   "metadata": {},
   "outputs": [
    {
     "name": "stdout",
     "output_type": "stream",
     "text": [
      "Means and standard deviations for TPR, FDR and AUC with 10 dimensions\n",
      "[0.758 0.567 0.484] [0.048 0.039 0.028]\n",
      "Means and standard deviations for TPR, FDR and AUC with 50 dimensions\n",
      "[0.566 0.677 0.499] [0.093 0.061 0.027]\n"
     ]
    }
   ],
   "source": [
    "# LiNGAM / SVAM performance with sparse data\n",
    "import warnings\n",
    "warnings.filterwarnings(\"ignore\")\n",
    "for p in [10,50]:\n",
    "    perf = []\n",
    "    for i in range(20):\n",
    "        # Simulate data\n",
    "        T = 1000\n",
    "        num_points = T\n",
    "        data, GC = utils.simulate_rossler(p=p, a=0, T=T, delta_t=0.1, sd=0.05, burn_in=0, sigma=0.0)\n",
    "\n",
    "        # format for NeuralODE\n",
    "        data = torch.from_numpy(data[:, None, :].astype(np.float32))\n",
    "\n",
    "        from source.lingam import lingam_method\n",
    "        importlib.reload(utils)\n",
    "        graph = lingam_method(data.squeeze().detach())\n",
    "        perf.append(utils.compare_graphs(GC, graph)) # tpr, fdr\n",
    "\n",
    "    print('Means and standard deviations for TPR, FDR and AUC with', p, 'dimensions')\n",
    "    print(np.mean(np.reshape(perf,(-1, 3)),axis=0), np.std(np.reshape(perf,(-1, 3)),axis=0) )     "
   ]
  },
  {
   "cell_type": "markdown",
   "metadata": {},
   "source": [
    "# DCM"
   ]
  },
  {
   "cell_type": "code",
   "execution_count": 22,
   "metadata": {},
   "outputs": [
    {
     "name": "stdout",
     "output_type": "stream",
     "text": [
      "Means and standard deviations for TPR, FDR and AUC with 10 dimensions\n",
      "[0.842 0.323 0.911] [0.    0.161 0.006]\n",
      "Means and standard deviations for TPR, FDR and AUC with 50 dimensions\n",
      "[0.97  0.689 0.983] [2.220e-16 5.757e-02 3.826e-04]\n"
     ]
    }
   ],
   "source": [
    "# DCM performance with sparse data\n",
    "for p in [10,50]:\n",
    "    perf = []\n",
    "    for i in range(10):\n",
    "        # Simulate data\n",
    "        T = 1000\n",
    "        num_points = T\n",
    "        data, GC = utils.simulate_rossler(p=p, a=0, T=T, delta_t=0.1, sd=0.05, burn_in=0, sigma=0.0)\n",
    "\n",
    "        from source.DCM import DCM_full\n",
    "        graph = DCM_full(data,lambda1=0.001, s=4, w_threshold = 0.1)\n",
    "        #plt.matshow(abs(graph),cmap='Reds')\n",
    "        #plt.colorbar()\n",
    "        #plt.show()\n",
    "        perf.append(utils.compare_graphs(GC, graph)) # tpr, fdr\n",
    "\n",
    "    print('Means and standard deviations for TPR, FDR and AUC with', p, 'dimensions')\n",
    "    print(np.mean(np.reshape(perf,(-1, 3)),axis=0), np.std(np.reshape(perf,(-1, 3)),axis=0) )     "
   ]
  },
  {
   "cell_type": "markdown",
   "metadata": {},
   "source": [
    "# PCMCI"
   ]
  },
  {
   "cell_type": "code",
   "execution_count": 21,
   "metadata": {},
   "outputs": [
    {
     "name": "stdout",
     "output_type": "stream",
     "text": [
      "TPR, FDR and AUC with 10 dimensions\n",
      "[0.695 0.736 0.619] [0.102 0.04  0.061]\n",
      "TPR, FDR and AUC with 50 dimensions\n",
      "[0.824 0.916 0.726] [0.04  0.008 0.029]\n"
     ]
    }
   ],
   "source": [
    "# pcmci performance with sparse data\n",
    "for p in [10,50]:\n",
    "    perf = []\n",
    "    for i in range(5):\n",
    "        # Simulate data\n",
    "        T = 1000\n",
    "        num_points = T\n",
    "        data, GC = utils.simulate_rossler(p=p, a=0, T=T, delta_t=0.1, sd=0.05, burn_in=0, sigma=0.0)\n",
    "        \n",
    "        from source.pcmci import pcmci\n",
    "        importlib.reload(utils)\n",
    "        graph = pcmci(data)\n",
    "        perf.append(utils.compare_graphs(GC, graph)) # tpr, fdr\n",
    "\n",
    "    print('TPR, FDR and AUC with', p, 'dimensions')\n",
    "    print(np.mean(np.reshape(perf,(-1, 3)),axis=0), np.std(np.reshape(perf,(-1, 3)),axis=0) )     "
   ]
  },
  {
   "cell_type": "markdown",
   "metadata": {},
   "source": [
    "## NGM"
   ]
  },
  {
   "cell_type": "code",
   "execution_count": 23,
   "metadata": {},
   "outputs": [
    {
     "name": "stdout",
     "output_type": "stream",
     "text": [
      "Means and standard deviations for TPR, FDR and AUC with 10 dimensions\n",
      "[0.895 0.    0.947] [0. 0. 0.]\n",
      "Means and standard deviations for TPR, FDR and AUC with 50 dimensions\n",
      "[0.97  0.127 0.984] [0. 0. 0.]\n"
     ]
    }
   ],
   "source": [
    "# NGM performance with sparse data\n",
    "import warnings\n",
    "warnings.filterwarnings(\"ignore\")\n",
    "for p in [10,50]:\n",
    "    perf = []\n",
    "    for i in range(1):\n",
    "        # Simulate data\n",
    "        T = 1000\n",
    "        num_points = T\n",
    "        data, GC = utils.simulate_rossler(p=p, a=0, T=T, delta_t=0.1, sd=0.05, burn_in=0, sigma=0.0)\n",
    "\n",
    "        # format for NeuralODE\n",
    "        data = torch.from_numpy(data[:, None, :])\n",
    "\n",
    "        import source.NMC as models\n",
    "        func = models.MLPODEF(dims=[p, 12, 1],GL_reg=0.1)\n",
    "        \n",
    "        # GL training\n",
    "        models.train(func,data,n_steps=2000,plot = False, plot_freq=20)\n",
    "        # AGL training\n",
    "        #weights = func.group_weights()\n",
    "        #func.GL_reg *= (1 / weights)\n",
    "        #func.reset_parameters()\n",
    "        #models.train(func,data,n_steps=1000,plot = True, plot_freq=20)\n",
    "        graph = func.causal_graph(w_threshold=0.1)\n",
    "        perf.append(utils.compare_graphs(GC, graph)) # tpr, fdr\n",
    "\n",
    "    print('Means and standard deviations for TPR, FDR and AUC with', p, 'dimensions')\n",
    "    print(np.mean(np.reshape(perf,(-1, 3)),axis=0), np.std(np.reshape(perf,(-1, 3)),axis=0) )     "
   ]
  },
  {
   "cell_type": "code",
   "execution_count": null,
   "metadata": {},
   "outputs": [],
   "source": []
  }
 ],
 "metadata": {
  "kernelspec": {
   "display_name": "Python 3 (ipykernel)",
   "language": "python",
   "name": "python3"
  },
  "language_info": {
   "codemirror_mode": {
    "name": "ipython",
    "version": 3
   },
   "file_extension": ".py",
   "mimetype": "text/x-python",
   "name": "python",
   "nbconvert_exporter": "python",
   "pygments_lexer": "ipython3",
   "version": "3.9.7"
  }
 },
 "nbformat": 4,
 "nbformat_minor": 4
}
