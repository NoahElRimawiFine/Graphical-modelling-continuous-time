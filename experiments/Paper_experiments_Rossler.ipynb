{
 "cells": [
  {
   "cell_type": "markdown",
   "metadata": {},
   "source": [
    "Rossler performance experiments"
   ]
  },
  {
   "cell_type": "code",
   "execution_count": 1,
   "metadata": {},
   "outputs": [],
   "source": [
    "import numpy as np\n",
    "import torch\n",
    "import sys\n",
    "\n",
    "sys.path.append(\"../\")\n",
    "import utils as utils\n",
    "import NMC as models\n",
    "import importlib"
   ]
  },
  {
   "cell_type": "markdown",
   "metadata": {},
   "source": [
    "## SVAM"
   ]
  },
  {
   "cell_type": "code",
   "execution_count": 2,
   "metadata": {},
   "outputs": [
    {
     "name": "stdout",
     "output_type": "stream",
     "text": [
      "Means and standard deviations for TPR, FDR and AUC with 10 dimensions\n",
      "[0.77368421 0.53953499 0.49996751] [0.10273274 0.06081473 0.02438485]\n",
      "Means and standard deviations for TPR, FDR and AUC with 50 dimensions\n",
      "[0.59141414 0.66847463 0.49049291] [0.10153776 0.06151317 0.02785143]\n"
     ]
    }
   ],
   "source": [
    "# LiNGAM / SVAM performance with sparse data\n",
    "import warnings\n",
    "\n",
    "warnings.filterwarnings(\"ignore\")\n",
    "for p in [10, 50]:\n",
    "    perf = []\n",
    "    for i in range(20):\n",
    "        # Simulate data\n",
    "        T = 1000\n",
    "        num_points = T\n",
    "        data, GC = utils.simulate_rossler(p=p, a=0, T=T, delta_t=0.1, sd=0.05, burn_in=0, sigma=0.0)\n",
    "\n",
    "        # format for NeuralODE\n",
    "        data = torch.from_numpy(data[:, None, :].astype(np.float32))\n",
    "\n",
    "        from benchmarks.lingam_benchmark import lingam_method\n",
    "\n",
    "        importlib.reload(utils)\n",
    "        graph = lingam_method(data.squeeze().detach())\n",
    "        perf.append(utils.compare_graphs(GC, graph))  # tpr, fdr\n",
    "\n",
    "    print(\"Means and standard deviations for TPR, FDR and AUC with\", p, \"dimensions\")\n",
    "    print(np.mean(np.reshape(perf, (-1, 3)), axis=0), np.std(np.reshape(perf, (-1, 3)), axis=0))"
   ]
  },
  {
   "cell_type": "markdown",
   "metadata": {},
   "source": [
    "# DCM"
   ]
  },
  {
   "cell_type": "code",
   "execution_count": 3,
   "metadata": {},
   "outputs": [
    {
     "name": "stdout",
     "output_type": "stream",
     "text": [
      "Means and standard deviations for TPR, FDR and AUC with 10 dimensions\n",
      "[0.779 0.452 0.864] [0.135 0.115 0.092]\n",
      "Means and standard deviations for TPR, FDR and AUC with 50 dimensions\n",
      "[0.97  0.716 0.983] [2.220e-16 1.151e-01 8.450e-04]\n"
     ]
    }
   ],
   "source": [
    "# DCM performance with sparse data\n",
    "for p in [10, 50]:\n",
    "    perf = []\n",
    "    for i in range(10):\n",
    "        # Simulate data\n",
    "        T = 1000\n",
    "        num_points = T\n",
    "        data, GC = utils.simulate_rossler(p=p, a=0, T=T, delta_t=0.1, sd=0.05, burn_in=0, sigma=0.0)\n",
    "\n",
    "        from benchmarks.DCM import DCM_full\n",
    "\n",
    "        graph = DCM_full(data, lambda1=0.001, s=4, w_threshold=0.1)\n",
    "        # plt.matshow(abs(graph),cmap='Reds')\n",
    "        # plt.colorbar()\n",
    "        # plt.show()\n",
    "        perf.append(utils.compare_graphs(GC, graph))  # tpr, fdr\n",
    "\n",
    "    print(\"Means and standard deviations for TPR, FDR and AUC with\", p, \"dimensions\")\n",
    "    print(np.mean(np.reshape(perf, (-1, 3)), axis=0), np.std(np.reshape(perf, (-1, 3)), axis=0))"
   ]
  },
  {
   "cell_type": "markdown",
   "metadata": {},
   "source": [
    "# PCMCI"
   ]
  },
  {
   "cell_type": "code",
   "execution_count": 4,
   "metadata": {},
   "outputs": [
    {
     "name": "stdout",
     "output_type": "stream",
     "text": [
      "Could not import packages for CMIknn and GPDC estimation\n",
      "Could not import r-package RCIT\n",
      "Means and standard deviations for TPR, FDR and AUC with 10 dimensions\n",
      "[0.768 0.76  0.597] [0.123 0.041 0.083]\n",
      "Means and standard deviations for TPR, FDR and AUC with 50 dimensions\n",
      "[0.685 0.925 0.668] [0.068 0.006 0.018]\n"
     ]
    }
   ],
   "source": [
    "# pcmci performance with sparse data\n",
    "for p in [10, 50]:\n",
    "    perf = []\n",
    "    for i in range(5):\n",
    "        # Simulate data\n",
    "        T = 1000\n",
    "        num_points = T\n",
    "        data, GC = utils.simulate_rossler(p=p, a=0, T=T, delta_t=0.1, sd=0.05, burn_in=0, sigma=0.0)\n",
    "\n",
    "        from benchmarks.pcmci import pcmci\n",
    "\n",
    "        importlib.reload(utils)\n",
    "        graph = pcmci(data)\n",
    "        perf.append(utils.compare_graphs(GC, graph))  # tpr, fdr\n",
    "\n",
    "    print(\"Means and standard deviations for TPR, FDR and AUC with\", p, \"dimensions\")\n",
    "    print(np.mean(np.reshape(perf, (-1, 3)), axis=0), np.std(np.reshape(perf, (-1, 3)), axis=0))"
   ]
  },
  {
   "cell_type": "markdown",
   "metadata": {},
   "source": [
    "## NGM"
   ]
  },
  {
   "cell_type": "code",
   "execution_count": 6,
   "metadata": {},
   "outputs": [
    {
     "name": "stdout",
     "output_type": "stream",
     "text": [
      "Means and standard deviations for TPR, FDR and AUC with 10 dimensions\n",
      "[0.863 0.    0.932] [0.026 0.    0.013]\n",
      "Means and standard deviations for TPR, FDR and AUC with 50 dimensions\n",
      "[0.974 0.11  0.987] [0.005 0.043 0.002]\n"
     ]
    }
   ],
   "source": [
    "# NGM performance with sparse data\n",
    "import warnings\n",
    "\n",
    "warnings.filterwarnings(\"ignore\")\n",
    "for p in [10, 50]:\n",
    "    perf = []\n",
    "    for i in range(5):\n",
    "        # Simulate data\n",
    "        T = 1000\n",
    "        num_points = T\n",
    "        data, GC = utils.simulate_rossler(p=p, a=0, T=T, delta_t=0.1, sd=0.05, burn_in=0, sigma=0.0)\n",
    "\n",
    "        # format for NeuralODE\n",
    "        data = torch.from_numpy(data[:, None, :])\n",
    "\n",
    "        import NMC as models\n",
    "\n",
    "        func = models.MLPODEF(dims=[p, 12, 1], GL_reg=0.1)\n",
    "\n",
    "        # GL training\n",
    "        models.train(func, data, n_steps=2000, plot=False, plot_freq=20)\n",
    "        # AGL training\n",
    "        # weights = func.group_weights()\n",
    "        # func.GL_reg *= (1 / weights)\n",
    "        # func.reset_parameters()\n",
    "        # models.train(func,data,n_steps=1000,plot = True, plot_freq=20)\n",
    "        graph = func.causal_graph(w_threshold=0.1)\n",
    "        perf.append(utils.compare_graphs(GC, graph))  # tpr, fdr\n",
    "\n",
    "    print(\"Means and standard deviations for TPR, FDR and AUC with\", p, \"dimensions\")\n",
    "    print(np.mean(np.reshape(perf, (-1, 3)), axis=0), np.std(np.reshape(perf, (-1, 3)), axis=0))"
   ]
  }
 ],
 "metadata": {
  "kernelspec": {
   "display_name": "Python 3 (ipykernel)",
   "language": "python",
   "name": "python3"
  },
  "language_info": {
   "codemirror_mode": {
    "name": "ipython",
    "version": 3
   },
   "file_extension": ".py",
   "mimetype": "text/x-python",
   "name": "python",
   "nbconvert_exporter": "python",
   "pygments_lexer": "ipython3",
   "version": "3.8.12"
  }
 },
 "nbformat": 4,
 "nbformat_minor": 4
}
