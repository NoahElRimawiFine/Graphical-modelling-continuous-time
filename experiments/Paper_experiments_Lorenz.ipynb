{
 "cells": [
  {
   "cell_type": "markdown",
   "metadata": {},
   "source": [
    "Lorenz performance experiments"
   ]
  },
  {
   "cell_type": "code",
   "execution_count": 1,
   "metadata": {},
   "outputs": [],
   "source": [
    "import numpy as np\n",
    "import torch\n",
    "import sys\n",
    "\n",
    "# import matplotlib.pyplot as plt\n",
    "\n",
    "sys.path.append(\"../\")\n",
    "from utils import simulate_lorenz_96, compute_spline  # , compare_graphs\n",
    "import utils as utils\n",
    "import NMC as models\n",
    "import importlib"
   ]
  },
  {
   "cell_type": "markdown",
   "metadata": {},
   "source": [
    "## SVAM"
   ]
  },
  {
   "cell_type": "code",
   "execution_count": 2,
   "metadata": {},
   "outputs": [
    {
     "name": "stdout",
     "output_type": "stream",
     "text": [
      "Means and standard deviations for TPR, FDR and AUC with 0.01 time interval\n",
      "[0.3975     0.32996842 0.69335417] [0.04175823 0.06499461 0.02458924]\n",
      "Means and standard deviations for TPR, FDR and AUC with 0.05 time interval\n",
      "[0.45875    0.20603195 0.70964583] [0.03814037 0.07344687 0.02074911]\n",
      "Means and standard deviations for TPR, FDR and AUC with 0.1 time interval\n",
      "[0.58625    0.14463012 0.6938125 ] [0.03208874 0.04376159 0.01608032]\n",
      "Means and standard deviations for TPR, FDR and AUC with 0.15 time interval\n",
      "[0.66125    0.22614872 0.64844792] [0.04839615 0.04318911 0.02568949]\n",
      "Means and standard deviations for TPR, FDR and AUC with 0.25 time interval\n",
      "[0.79625    0.49919492 0.54761458] [0.05492893 0.02473709 0.0136025 ]\n"
     ]
    }
   ],
   "source": [
    "# LiNGAM / SVAM performance with sparse data\n",
    "import warnings\n",
    "\n",
    "warnings.filterwarnings(\"ignore\")\n",
    "for dt in [0.01, 0.05, 0.1, 0.15, 0.25]:\n",
    "    perf = []\n",
    "    for i in range(20):\n",
    "        # Simulate data\n",
    "        p = 10\n",
    "        T = 1000\n",
    "        num_points = T\n",
    "        data, GC = simulate_lorenz_96(p, T=T, delta_t=dt, sigma=0.05, F=10)\n",
    "\n",
    "        # format for NeuralODE\n",
    "        times = np.linspace(0, T, num_points)\n",
    "        times_np = np.hstack([times[:, None]])\n",
    "        times = torch.from_numpy(times_np[:, :, None])\n",
    "        data = torch.from_numpy(data[:, None, :].astype(np.float32))\n",
    "\n",
    "        indices = np.random.choice(range(T), int(T), replace=False)\n",
    "        indices = np.sort(indices)\n",
    "\n",
    "        from benchmarks.lingam_benchmark import lingam_method\n",
    "\n",
    "        importlib.reload(utils)\n",
    "        graph = lingam_method(data[indices].squeeze().detach())\n",
    "        perf.append(utils.compare_graphs(GC, graph))  # tpr, fdr\n",
    "\n",
    "    print(\"Means and standard deviations for TPR, FDR and AUC with\", dt, \"time interval\")\n",
    "    print(np.mean(np.reshape(perf, (-1, 3)), axis=0), np.std(np.reshape(perf, (-1, 3)), axis=0))"
   ]
  },
  {
   "cell_type": "code",
   "execution_count": 3,
   "metadata": {},
   "outputs": [
    {
     "name": "stdout",
     "output_type": "stream",
     "text": [
      "Means and standard deviations for TPR, FDR and AUC with 1 kept\n",
      "[0.57375    0.14827103 0.70214583] [0.03304826 0.05514702 0.01647627]\n",
      "Means and standard deviations for TPR, FDR and AUC with 0.7 kept\n",
      "[0.64875    0.27761763 0.64661458] [0.04967079 0.05612829 0.02489761]\n",
      "Means and standard deviations for TPR, FDR and AUC with 0.5 kept\n",
      "[0.66       0.42124403 0.59220833] [0.05937171 0.05131919 0.0254867 ]\n",
      "Means and standard deviations for TPR, FDR and AUC with 0.3 kept\n",
      "[0.57125    0.56894655 0.53840625] [0.05435704 0.04234778 0.03246341]\n"
     ]
    }
   ],
   "source": [
    "# LiNGAM / SVAM performance with irregular data\n",
    "for fraction in [1, 0.7, 0.5, 0.3]:\n",
    "    perf = []\n",
    "    for i in range(20):\n",
    "        # Simulate data\n",
    "        p = 10\n",
    "        T = 1000\n",
    "        num_points = T\n",
    "        data, GC = simulate_lorenz_96(p, T=T, delta_t=0.1, sigma=0.05, F=10)\n",
    "\n",
    "        # format for NeuralODE\n",
    "        times = np.linspace(0, T, num_points)\n",
    "        times_np = np.hstack([times[:, None]])\n",
    "        # times = torch.from_numpy(times_np[:, :, None])\n",
    "        data = torch.from_numpy(data[:, None, :].astype(np.float32))\n",
    "\n",
    "        indices = np.random.choice(range(T), int(fraction * T), replace=False)\n",
    "        indices = np.sort(indices)\n",
    "\n",
    "        data = compute_spline(data[indices].squeeze().detach(), times[indices], k=2, s=0)\n",
    "\n",
    "        from benchmarks.lingam_benchmark import lingam_method\n",
    "\n",
    "        importlib.reload(utils)\n",
    "        graph = lingam_method(data)\n",
    "        perf.append(utils.compare_graphs(GC, graph))  # tpr, fdr\n",
    "\n",
    "    print(\"Means and standard deviations for TPR, FDR and AUC with\", fraction, \"kept\")\n",
    "    print(np.mean(np.reshape(perf, (-1, 3)), axis=0), np.std(np.reshape(perf, (-1, 3)), axis=0))"
   ]
  },
  {
   "cell_type": "markdown",
   "metadata": {},
   "source": [
    "# DCM"
   ]
  },
  {
   "cell_type": "code",
   "execution_count": 4,
   "metadata": {},
   "outputs": [
    {
     "name": "stdout",
     "output_type": "stream",
     "text": [
      "Means and standard deviations for TPR, FDR and AUC with 0.01 time interval\n",
      "[0.005 0.    0.503] [0.01  0.    0.005]\n",
      "Means and standard deviations for TPR, FDR and AUC with 0.05 time interval\n",
      "[0.753 0.058 0.872] [0.008 0.034 0.002]\n",
      "Means and standard deviations for TPR, FDR and AUC with 0.1 time interval\n",
      "[0.938 0.161 0.958] [0.036 0.026 0.02 ]\n",
      "Means and standard deviations for TPR, FDR and AUC with 0.25 time interval\n",
      "[1.    0.6   0.936] [0.000e+00 1.110e-16 2.831e-02]\n",
      "Means and standard deviations for TPR, FDR and AUC with 0.5 time interval\n",
      "[1.    0.6   0.588] [0.000e+00 1.110e-16 3.613e-02]\n",
      "Means and standard deviations for TPR, FDR and AUC with 1 time interval\n",
      "[1.    0.6   0.508] [0.000e+00 1.110e-16 4.837e-02]\n"
     ]
    }
   ],
   "source": [
    "# DCM performance with sparse data\n",
    "for dt in [0.01, 0.05, 0.1, 0.25, 0.5, 1]:\n",
    "    perf = []\n",
    "    for i in range(10):\n",
    "        # Simulate data\n",
    "        p = 10\n",
    "        T = 1000\n",
    "        num_points = T\n",
    "        data, GC = simulate_lorenz_96(p, T=T, delta_t=dt, sigma=0.01, F=10)\n",
    "\n",
    "        indices = np.random.choice(range(T), int(T), replace=False)\n",
    "        indices = np.sort(indices)\n",
    "\n",
    "        from benchmarks.DCM import DCM_full\n",
    "\n",
    "        graph = DCM_full(data[indices], lambda1=0.05, s=4, w_threshold=0.1)\n",
    "        # plt.matshow(abs(graph),cmap='Reds')\n",
    "        # plt.colorbar()\n",
    "        # plt.show()\n",
    "        perf.append(utils.compare_graphs(GC, graph))  # tpr, fdr\n",
    "\n",
    "    print(\"Means and standard deviations for TPR, FDR and AUC with\", dt, \"time interval\")\n",
    "    print(np.mean(np.reshape(perf, (-1, 3)), axis=0), np.std(np.reshape(perf, (-1, 3)), axis=0))"
   ]
  },
  {
   "cell_type": "code",
   "execution_count": 5,
   "metadata": {},
   "outputs": [
    {
     "name": "stdout",
     "output_type": "stream",
     "text": [
      "Means and standard deviations for TPR, FDR and AUC with 1 kept\n",
      "[0.75  0.081 0.869] [0.    0.034 0.003]\n",
      "Means and standard deviations for TPR, FDR and AUC with 0.7 kept\n",
      "[0.82  0.131 0.899] [0.048 0.041 0.024]\n",
      "Means and standard deviations for TPR, FDR and AUC with 0.5 kept\n",
      "[0.92  0.322 0.926] [0.029 0.063 0.021]\n",
      "Means and standard deviations for TPR, FDR and AUC with 0.3 kept\n",
      "[1.    0.596 0.806] [0.    0.005 0.047]\n"
     ]
    }
   ],
   "source": [
    "# DCM performance with irregular data\n",
    "for fraction in [1, 0.7, 0.5, 0.3]:\n",
    "    perf = []\n",
    "    for i in range(10):\n",
    "        # Simulate data\n",
    "        p = 10\n",
    "        T = 1000\n",
    "        num_points = T\n",
    "        data, GC = simulate_lorenz_96(p, T=T, delta_t=0.05, sigma=0.00, F=10)\n",
    "\n",
    "        indices = np.random.choice(range(T), int(fraction * T), replace=False)\n",
    "        indices = np.sort(indices)\n",
    "\n",
    "        # data = compute_spline(data[indices].squeeze().detach(), times[indices], k=2,s=0)\n",
    "\n",
    "        from benchmarks.DCM import DCM_full\n",
    "\n",
    "        graph = DCM_full(data[indices], lambda1=0.05, s=4, w_threshold=0.1)\n",
    "        perf.append(utils.compare_graphs(GC, graph))  # tpr, fdr\n",
    "\n",
    "    print(\"Means and standard deviations for TPR, FDR and AUC with\", fraction, \"kept\")\n",
    "    print(np.mean(np.reshape(perf, (-1, 3)), axis=0), np.std(np.reshape(perf, (-1, 3)), axis=0))"
   ]
  },
  {
   "cell_type": "markdown",
   "metadata": {},
   "source": [
    "# PCMCI"
   ]
  },
  {
   "cell_type": "code",
   "execution_count": 4,
   "metadata": {},
   "outputs": [
    {
     "name": "stdout",
     "output_type": "stream",
     "text": [
      "Could not import packages for CMIknn and GPDC estimation\n",
      "Could not import r-package RCIT\n",
      "Means and standard deviations for TPR, FDR and AUC with 0.01 time interval\n",
      "[0.255      0.03560606 0.62416667] [0.01       0.04365767 0.00612372]\n",
      "Means and standard deviations for TPR, FDR and AUC with 0.05 time interval\n",
      "[0.31       0.07527681 0.64583333] [0.03905125 0.06180708 0.01844662]\n",
      "Means and standard deviations for TPR, FDR and AUC with 0.1 time interval\n",
      "[0.6475    0.0821358 0.80375  ] [0.0675     0.03210886 0.02913391]\n",
      "Means and standard deviations for TPR, FDR and AUC with 0.15 time interval\n",
      "[0.67       0.01470184 0.83166667] [0.035      0.01802885 0.01920286]\n",
      "Means and standard deviations for TPR, FDR and AUC with 0.25 time interval\n",
      "[0.27       0.4780816  0.55416667] [0.06103278 0.0707631  0.03405469]\n"
     ]
    }
   ],
   "source": [
    "# pcmci performance with sparse data\n",
    "for dt in [0.01, 0.05, 0.1, 0.15, 0.25]:\n",
    "    perf = []\n",
    "    for i in range(10):\n",
    "        # Simulate data\n",
    "        p = 10\n",
    "        T = 1000\n",
    "        num_points = T\n",
    "        data, GC = simulate_lorenz_96(p, T=T, delta_t=dt, sigma=0.05, F=10)\n",
    "\n",
    "        # format for NeuralODE\n",
    "        # times = np.linspace(0, T, num_points)\n",
    "        # times_np = np.hstack([times[:, None]])\n",
    "        # times = torch.from_numpy(times_np[:, :, None])\n",
    "        # data = torch.from_numpy(data[:, None, :].astype(np.float32))\n",
    "\n",
    "        indices = np.random.choice(range(T), int(T), replace=False)\n",
    "        indices = np.sort(indices)\n",
    "\n",
    "        from benchmarks.pcmci import pcmci\n",
    "\n",
    "        importlib.reload(utils)\n",
    "        graph = pcmci(data[indices])\n",
    "        perf.append(utils.compare_graphs(GC, graph))  # tpr, fdr\n",
    "\n",
    "    print(\"Means and standard deviations for TPR, FDR and AUC with\", dt, \"time interval\")\n",
    "    print(np.mean(np.reshape(perf, (-1, 3)), axis=0), np.std(np.reshape(perf, (-1, 3)), axis=0))"
   ]
  },
  {
   "cell_type": "code",
   "execution_count": 5,
   "metadata": {},
   "outputs": [
    {
     "name": "stdout",
     "output_type": "stream",
     "text": [
      "Means and standard deviations for TPR, FDR and AUC with 1 kept\n",
      "[0.6325    0.1049527 0.79125  ] [0.10491068 0.04194103 0.05049924]\n",
      "Means and standard deviations for TPR, FDR and AUC with 0.7 kept\n",
      "[0.3825  0.      0.69125] [0.06025985 0.         0.03012993]\n",
      "Means and standard deviations for TPR, FDR and AUC with 0.5 kept\n",
      "[0.055      0.01666667 0.52666667] [0.03316625 0.05       0.01493039]\n",
      "Means and standard deviations for TPR, FDR and AUC with 0.3 kept\n",
      "[0.         0.1        0.49916667] [0.     0.3    0.0025]\n"
     ]
    }
   ],
   "source": [
    "# pcmci performance with irregular data\n",
    "for fraction in [1, 0.7, 0.5, 0.3]:\n",
    "    perf = []\n",
    "    for i in range(10):\n",
    "        # Simulate data\n",
    "        p = 10\n",
    "        T = 1000\n",
    "        num_points = T\n",
    "        data, GC = simulate_lorenz_96(p, T=T, delta_t=0.1, sigma=0.05, F=10)\n",
    "\n",
    "        # format for NeuralODE\n",
    "        times = np.linspace(0, T, num_points)\n",
    "        times_np = np.hstack([times[:, None]])\n",
    "        # times = torch.from_numpy(times_np[:, :, None])\n",
    "        data = torch.from_numpy(data[:, None, :].astype(np.float32))\n",
    "\n",
    "        indices = np.random.choice(range(T), int(fraction * T), replace=False)\n",
    "        indices = np.sort(indices)\n",
    "\n",
    "        data = compute_spline(data[indices].squeeze().detach(), times[indices], k=2, s=0)\n",
    "\n",
    "        from benchmarks.pcmci import pcmci\n",
    "\n",
    "        importlib.reload(utils)\n",
    "        graph = pcmci(data)\n",
    "        perf.append(utils.compare_graphs(GC, graph))  # tpr, fdr\n",
    "\n",
    "    print(\"Means and standard deviations for TPR, FDR and AUC with\", fraction, \"kept\")\n",
    "    print(np.mean(np.reshape(perf, (-1, 3)), axis=0), np.std(np.reshape(perf, (-1, 3)), axis=0))"
   ]
  },
  {
   "cell_type": "markdown",
   "metadata": {},
   "source": [
    "## NGM"
   ]
  },
  {
   "cell_type": "code",
   "execution_count": 8,
   "metadata": {},
   "outputs": [
    {
     "name": "stdout",
     "output_type": "stream",
     "text": [
      "Means and standard deviations for TPR, FDR and AUC with 0.01 time interval\n",
      "[0.633 0.    0.816] [0.091 0.    0.045]\n",
      "Means and standard deviations for TPR, FDR and AUC with 0.05 time interval\n",
      "[0.75  0.    0.875] [0. 0. 0.]\n",
      "Means and standard deviations for TPR, FDR and AUC with 0.1 time interval\n",
      "[0.81  0.    0.905] [0.025 0.    0.013]\n",
      "Means and standard deviations for TPR, FDR and AUC with 0.15 time interval\n",
      "[0.993 0.    0.996] [0.011 0.    0.006]\n",
      "Means and standard deviations for TPR, FDR and AUC with 0.25 time interval\n",
      "[0.99  0.164 0.994] [0.012 0.056 0.006]\n"
     ]
    }
   ],
   "source": [
    "# NGM performance with sparse data\n",
    "import warnings\n",
    "\n",
    "warnings.filterwarnings(\"ignore\")\n",
    "for dt in [0.01, 0.05, 0.1, 0.15, 0.25]:\n",
    "    perf = []\n",
    "    for i in range(10):\n",
    "        # Simulate data\n",
    "        p = 10\n",
    "        T = 1000\n",
    "        num_points = T\n",
    "        data, GC = simulate_lorenz_96(p, T=T, delta_t=dt, sigma=0.05, F=10)\n",
    "\n",
    "        # format for NeuralODE\n",
    "        times = np.linspace(0, T, num_points)\n",
    "        times_np = np.hstack([times[:, None]])\n",
    "        times = torch.from_numpy(times_np[:, :, None])  # .astype(np.float32))\n",
    "        data = torch.from_numpy(data[:, None, :])  # .astype(np.float32))\n",
    "\n",
    "        import NMC as models\n",
    "\n",
    "        func = models.MLPODEF(dims=[p, 12, 1], GL_reg=0.1)\n",
    "\n",
    "        # GL training\n",
    "        models.train(func, data, n_steps=1000, plot=False, plot_freq=20)\n",
    "        # AGL training\n",
    "        weights = func.group_weights()\n",
    "        func.GL_reg *= 1 / weights\n",
    "        func.reset_parameters()\n",
    "        models.train(func, data, n_steps=1000, plot=False, plot_freq=20)\n",
    "        graph = func.causal_graph(w_threshold=0.1)\n",
    "        perf.append(utils.compare_graphs(GC, graph))  # tpr, fdr\n",
    "\n",
    "    print(\"Means and standard deviations for TPR, FDR and AUC with\", dt, \"time interval\")\n",
    "    print(np.mean(np.reshape(perf, (-1, 3)), axis=0), np.std(np.reshape(perf, (-1, 3)), axis=0))"
   ]
  },
  {
   "cell_type": "code",
   "execution_count": 11,
   "metadata": {},
   "outputs": [
    {
     "name": "stdout",
     "output_type": "stream",
     "text": [
      "Means and standard deviations for TPR, FDR and AUC with 1 kept\n",
      "[0.985 0.078 0.989] [0.017 0.05  0.008]\n",
      "Means and standard deviations for TPR, FDR and AUC with 0.7 kept\n",
      "[0.982 0.213 0.985] [0.03  0.044 0.02 ]\n",
      "Means and standard deviations for TPR, FDR and AUC with 0.5 kept\n",
      "[0.915 0.214 0.938] [0.139 0.051 0.082]\n",
      "Means and standard deviations for TPR, FDR and AUC with 0.3 kept\n",
      "[0.605 0.262 0.767] [0.293 0.14  0.148]\n"
     ]
    }
   ],
   "source": [
    "# NGM performance with irregular data\n",
    "for fraction in [1, 0.7, 0.5, 0.3]:\n",
    "    perf = []\n",
    "    for i in range(10):\n",
    "        # Simulate data\n",
    "        p = 10\n",
    "        T = 3000\n",
    "        num_points = T\n",
    "        data, GC = simulate_lorenz_96(p, T=T, delta_t=0.05, sigma=0.05, F=5)\n",
    "\n",
    "        # format for NeuralODE\n",
    "        indices = np.random.choice(range(T), int(fraction * T), replace=False)\n",
    "        indices = np.sort(indices)\n",
    "        times = np.linspace(0, T, num_points)\n",
    "        times_np = np.hstack([times[indices, None]])\n",
    "        data = data[indices, :]\n",
    "        times = torch.from_numpy(times_np[:, :, None])\n",
    "        data = torch.from_numpy(data[:, None, :])  # .astype(np.float32))\n",
    "\n",
    "        import NMC as models\n",
    "\n",
    "        func = models.MLPODEF(dims=[p, 12, 1], GL_reg=0.05)\n",
    "        models.train(func, data, n_steps=2000, horizon=5, plot_freq=20, plot=False, irregular=True, times=times)\n",
    "        # weights = func.group_weights()\n",
    "        # func.GL_reg *= (1 / weights)\n",
    "        # func.reset_parameters()\n",
    "        # models.train(func,data,n_steps=1000,horizon = 5, plot_freq=20, plot=False, irregular=True, times=times)\n",
    "        graph = func.causal_graph(w_threshold=0.09)\n",
    "        # print(graph)\n",
    "        perf.append(utils.compare_graphs(GC, graph))  # tpr, fdr\n",
    "\n",
    "    print(\"Means and standard deviations for TPR, FDR and AUC with\", fraction, \"kept\")\n",
    "    print(np.mean(np.reshape(perf, (-1, 3)), axis=0), np.std(np.reshape(perf, (-1, 3)), axis=0))"
   ]
  }
 ],
 "metadata": {
  "kernelspec": {
   "display_name": "Python 3 (ipykernel)",
   "language": "python",
   "name": "python3"
  },
  "language_info": {
   "codemirror_mode": {
    "name": "ipython",
    "version": 3
   },
   "file_extension": ".py",
   "mimetype": "text/x-python",
   "name": "python",
   "nbconvert_exporter": "python",
   "pygments_lexer": "ipython3",
   "version": "3.8.12"
  }
 },
 "nbformat": 4,
 "nbformat_minor": 4
}
