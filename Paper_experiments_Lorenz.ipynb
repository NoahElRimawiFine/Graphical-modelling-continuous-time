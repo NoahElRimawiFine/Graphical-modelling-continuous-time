{
 "cells": [
  {
   "cell_type": "markdown",
   "metadata": {},
   "source": [
    "Lorenz performance experiments"
   ]
  },
  {
   "cell_type": "code",
   "execution_count": null,
   "metadata": {},
   "outputs": [],
   "source": [
    "import numpy as np\n",
    "import torch\n",
    "import sys\n",
    "import matplotlib.pyplot as plt\n",
    "from scipy.interpolate import UnivariateSpline\n",
    "from IPython.display import clear_output\n",
    "\n",
    "sys.path.append('../')\n",
    "from source.utils import simulate_lorenz_96, compare_graphs\n",
    "import source.utils as utils\n",
    "import source.NMC as models\n",
    "import importlib"
   ]
  },
  {
   "cell_type": "markdown",
   "metadata": {},
   "source": [
    "## SVAM"
   ]
  },
  {
   "cell_type": "code",
   "execution_count": 3,
   "metadata": {},
   "outputs": [
    {
     "name": "stdout",
     "output_type": "stream",
     "text": [
      "Means and standard deviations for TPR, FDR and AUC with 0.01 time interval\n",
      "[0.38       0.29340147 0.6864375 ] [0.02915476 0.11233716 0.01874188]\n",
      "Means and standard deviations for TPR, FDR and AUC with 0.05 time interval\n",
      "[0.4525     0.17427324 0.70007292] [0.03864906 0.07293103 0.01824972]\n",
      "Means and standard deviations for TPR, FDR and AUC with 0.1 time interval\n",
      "[0.58       0.12462248 0.69808333] [0.02806243 0.04960403 0.01512357]\n",
      "Means and standard deviations for TPR, FDR and AUC with 0.15 time interval\n",
      "[0.66625    0.24059382 0.64332292] [0.05605522 0.03657765 0.02563486]\n",
      "Means and standard deviations for TPR, FDR and AUC with 0.25 time interval\n",
      "[0.79375    0.49120444 0.5496875 ] [0.04532866 0.02250024 0.0106675 ]\n"
     ]
    }
   ],
   "source": [
    "# LiNGAM / SVAM performance with sparse data\n",
    "import warnings\n",
    "warnings.filterwarnings(\"ignore\")\n",
    "for dt in [0.01,0.05,0.1,0.15,0.25]:\n",
    "    perf = []\n",
    "    for i in range(20):\n",
    "        # Simulate data\n",
    "        p = 10\n",
    "        T = 1000\n",
    "        num_points = T\n",
    "        data, GC= simulate_lorenz_96(p, T=T, delta_t=dt,sigma=0.05, F=10)\n",
    "\n",
    "        # format for NeuralODE\n",
    "        times = np.linspace(0, T, num_points)\n",
    "        times_np = np.hstack([times[:, None]])\n",
    "        times = torch.from_numpy(times_np[:, :, None])\n",
    "        data = torch.from_numpy(data[:, None, :].astype(np.float32))\n",
    "\n",
    "        indeces = np.random.choice(range(T),int(T),replace=False)\n",
    "        indeces = np.sort(indeces)\n",
    "\n",
    "        from source.lingam import lingam_method\n",
    "        importlib.reload(utils)\n",
    "        graph = lingam_method(data[indeces].squeeze().detach())\n",
    "        perf.append(utils.compare_graphs(GC, graph)) # tpr, fdr\n",
    "\n",
    "    print('Means and standard deviations for TPR, FDR and AUC with', dt, 'time interval')\n",
    "    print(np.mean(np.reshape(perf,(-1, 3)),axis=0), np.std(np.reshape(perf,(-1, 3)),axis=0) )     "
   ]
  },
  {
   "cell_type": "code",
   "execution_count": 4,
   "metadata": {},
   "outputs": [
    {
     "name": "stdout",
     "output_type": "stream",
     "text": [
      "Means and standard deviations for TPR, FDR and AUC with 1 kept\n",
      "[0.58875    0.13850842 0.69266667] [0.03208874 0.05396437 0.0164683 ]\n",
      "Means and standard deviations for TPR, FDR and AUC with 0.7 kept\n",
      "[0.595      0.15881673 0.68578125] [0.04227884 0.05779033 0.02153504]\n",
      "Means and standard deviations for TPR, FDR and AUC with 0.5 kept\n",
      "[0.5375     0.23101878 0.66558333] [0.06869316 0.07037457 0.02619013]\n",
      "Means and standard deviations for TPR, FDR and AUC with 0.3 kept\n",
      "[0.3275     0.513526   0.57895833] [0.04465143 0.04080761 0.02861502]\n"
     ]
    }
   ],
   "source": [
    "# LiNGAM / SVAM performance with irregular data\n",
    "for fraction in [1,0.7,0.5, 0.3]:\n",
    "    perf = []\n",
    "    for i in range(20):\n",
    "        # Simulate data\n",
    "        p = 10\n",
    "        T = 1000\n",
    "        num_points = T\n",
    "        data, GC= simulate_lorenz_96(p, T=T, delta_t=0.1,sigma=0.05, F=10)\n",
    "\n",
    "        # format for NeuralODE\n",
    "        times = np.linspace(0, T, num_points)\n",
    "        times_np = np.hstack([times[:, None]])\n",
    "        #times = torch.from_numpy(times_np[:, :, None])\n",
    "        data = torch.from_numpy(data[:, None, :].astype(np.float32))\n",
    "\n",
    "        indeces = np.random.choice(range(T),int(fraction*T),replace=False)\n",
    "        indeces = np.sort(indeces)\n",
    "\n",
    "        data = compute_spline(data[indeces].squeeze().detach(), times[indeces], k=2,s=0)\n",
    "        \n",
    "        from source.lingam import lingam_method\n",
    "        importlib.reload(utils)\n",
    "        graph = lingam_method(data)\n",
    "        perf.append(utils.compare_graphs(GC, graph)) # tpr, fdr\n",
    "\n",
    "    print('Means and standard deviations for TPR, FDR and AUC with', fraction, 'kept')\n",
    "    print(np.mean(np.reshape(perf,(-1, 3)),axis=0), np.std(np.reshape(perf,(-1, 3)),axis=0) )     "
   ]
  },
  {
   "cell_type": "markdown",
   "metadata": {},
   "source": [
    "# DCM"
   ]
  },
  {
   "cell_type": "code",
   "execution_count": 5,
   "metadata": {},
   "outputs": [
    {
     "name": "stdout",
     "output_type": "stream",
     "text": [
      "Means and standard deviations for TPR, FDR and AUC with 0.01 time interval\n",
      "[0.003 0.    0.501] [0.008 0.    0.004]\n",
      "Means and standard deviations for TPR, FDR and AUC with 0.05 time interval\n",
      "[0.753 0.056 0.872] [0.008 0.028 0.005]\n",
      "Means and standard deviations for TPR, FDR and AUC with 0.1 time interval\n",
      "[0.922 0.157 0.949] [0.038 0.029 0.02 ]\n",
      "Means and standard deviations for TPR, FDR and AUC with 0.25 time interval\n",
      "[1.    0.599 0.942] [0.    0.002 0.027]\n",
      "Means and standard deviations for TPR, FDR and AUC with 0.5 time interval\n",
      "[1.    0.6   0.621] [0.000e+00 1.110e-16 4.653e-02]\n",
      "Means and standard deviations for TPR, FDR and AUC with 1 time interval\n",
      "[1.    0.6   0.526] [0.00e+00 1.11e-16 7.04e-02]\n"
     ]
    }
   ],
   "source": [
    "# DCM performance with sparse data\n",
    "for dt in [0.01,0.05,0.1,0.25,0.5,1]:\n",
    "    perf = []\n",
    "    for i in range(10):\n",
    "        # Simulate data\n",
    "        p = 10\n",
    "        T = 1000\n",
    "        num_points = T\n",
    "        data, GC= simulate_lorenz_96(p, T=T, delta_t=dt,sigma=0.01, F=10)\n",
    "\n",
    "        indeces = np.random.choice(range(T),int(T),replace=False)\n",
    "        indeces = np.sort(indeces)\n",
    "\n",
    "        from source.DCM import DCM_full\n",
    "        graph = DCM_full(data[indeces],lambda1=0.05, s=4, w_threshold = 0.1)\n",
    "        #plt.matshow(abs(graph),cmap='Reds')\n",
    "        #plt.colorbar()\n",
    "        #plt.show()\n",
    "        perf.append(utils.compare_graphs(GC, graph)) # tpr, fdr\n",
    "\n",
    "    print('Means and standard deviations for TPR, FDR and AUC with', dt, 'time interval')\n",
    "    print(np.mean(np.reshape(perf,(-1, 3)),axis=0), np.std(np.reshape(perf,(-1, 3)),axis=0) )     "
   ]
  },
  {
   "cell_type": "code",
   "execution_count": 6,
   "metadata": {},
   "outputs": [
    {
     "name": "stdout",
     "output_type": "stream",
     "text": [
      "Means and standatd deviations for TPR, FDR and AUC with 1 kept\n",
      "[0.753 0.055 0.872] [0.008 0.034 0.006]\n",
      "Means and standatd deviations for TPR, FDR and AUC with 0.7 kept\n",
      "[0.828 0.154 0.901] [0.031 0.035 0.014]\n",
      "Means and standatd deviations for TPR, FDR and AUC with 0.5 kept\n",
      "[0.945 0.336 0.937] [0.042 0.047 0.031]\n",
      "Means and standatd deviations for TPR, FDR and AUC with 0.3 kept\n",
      "[1.    0.596 0.823] [0.    0.006 0.046]\n"
     ]
    }
   ],
   "source": [
    "# DCM performance with irregular data\n",
    "for fraction in [1,0.7,0.5, 0.3]:\n",
    "    perf = []\n",
    "    for i in range(10):\n",
    "        # Simulate data\n",
    "        p = 10\n",
    "        T = 1000\n",
    "        num_points = T\n",
    "        data, GC= simulate_lorenz_96(p, T=T, delta_t=0.05,sigma=0.00, F=10)\n",
    "\n",
    "        indeces = np.random.choice(range(T),int(fraction*T),replace=False)\n",
    "        indeces = np.sort(indeces)\n",
    "\n",
    "        #data = compute_spline(data[indeces].squeeze().detach(), times[indeces], k=2,s=0)\n",
    "\n",
    "        from source.DCM import DCM_full\n",
    "        graph = DCM_full(data[indeces],lambda1=0.05, s=4, w_threshold = 0.1)\n",
    "        perf.append(utils.compare_graphs(GC, graph)) # tpr, fdr\n",
    "\n",
    "    print('Means and standatd deviations for TPR, FDR and AUC with', fraction, 'kept')\n",
    "    print(np.mean(np.reshape(perf,(-1, 3)),axis=0), np.std(np.reshape(perf,(-1, 3)),axis=0) )     "
   ]
  },
  {
   "cell_type": "markdown",
   "metadata": {},
   "source": [
    "# PCMCI"
   ]
  },
  {
   "cell_type": "code",
   "execution_count": 7,
   "metadata": {},
   "outputs": [
    {
     "name": "stdout",
     "output_type": "stream",
     "text": [
      "Could not import packages for CMIknn and GPDC estimation\n",
      "Could not import rpy package\n",
      "Could not import r-package RCIT\n",
      "TPR, FDR and AUC with 0.01 time interval\n",
      "[0.26  0.009 0.629] [0.017 0.027 0.009]\n",
      "TPR, FDR and AUC with 0.05 time interval\n",
      "[0.325 0.071 0.653] [0.039 0.064 0.017]\n",
      "TPR, FDR and AUC with 0.1 time interval\n",
      "[0.637 0.103 0.793] [0.064 0.066 0.032]\n",
      "TPR, FDR and AUC with 0.15 time interval\n",
      "[0.69  0.024 0.839] [0.03  0.027 0.017]\n",
      "TPR, FDR and AUC with 0.25 time interval\n",
      "[0.253 0.496 0.545] [0.063 0.08  0.034]\n"
     ]
    }
   ],
   "source": [
    "# pcmci performance with sparse data\n",
    "for dt in [0.01,0.05,0.1,0.15,0.25]:\n",
    "    perf = []\n",
    "    for i in range(10):\n",
    "        # Simulate data\n",
    "        p = 10\n",
    "        T = 1000\n",
    "        num_points = T\n",
    "        data, GC= simulate_lorenz_96(p, T=T, delta_t=dt,sigma=0.05, F=10)\n",
    "\n",
    "        # format for NeuralODE\n",
    "        #times = np.linspace(0, T, num_points)\n",
    "        #times_np = np.hstack([times[:, None]])\n",
    "        #times = torch.from_numpy(times_np[:, :, None])\n",
    "        #data = torch.from_numpy(data[:, None, :].astype(np.float32))\n",
    "\n",
    "        indeces = np.random.choice(range(T),int(T),replace=False)\n",
    "        indeces = np.sort(indeces)\n",
    "        \n",
    "        from source.pcmci import pcmci\n",
    "        importlib.reload(utils)\n",
    "        graph = pcmci(data[indeces])\n",
    "        perf.append(utils.compare_graphs(GC, graph)) # tpr, fdr\n",
    "\n",
    "    print('TPR, FDR and AUC with', dt, 'time interval')\n",
    "    print(np.mean(np.reshape(perf,(-1, 3)),axis=0), np.std(np.reshape(perf,(-1, 3)),axis=0) )     "
   ]
  },
  {
   "cell_type": "code",
   "execution_count": 8,
   "metadata": {},
   "outputs": [
    {
     "name": "stdout",
     "output_type": "stream",
     "text": [
      "TPR, FDR and AUC with 0.25 time interval\n",
      "[0.672 0.114 0.808] [0.088 0.027 0.046]\n",
      "TPR, FDR and AUC with 0.25 time interval\n",
      "[0.408 0.12  0.684] [0.058 0.063 0.023]\n",
      "TPR, FDR and AUC with 0.25 time interval\n",
      "[0.325 0.129 0.646] [0.043 0.072 0.024]\n",
      "TPR, FDR and AUC with 0.25 time interval\n",
      "[0.35  0.154 0.654] [0.055 0.079 0.036]\n"
     ]
    }
   ],
   "source": [
    "# pcmci performance with irregular data\n",
    "for fraction in [1,0.7,0.5, 0.3]:\n",
    "    perf = []\n",
    "    for i in range(10):\n",
    "        # Simulate data\n",
    "        p = 10\n",
    "        T = 1000\n",
    "        num_points = T\n",
    "        data, GC= simulate_lorenz_96(p, T=T, delta_t=0.1,sigma=0.05, F=10)\n",
    "\n",
    "        # format for NeuralODE\n",
    "        times = np.linspace(0, T, num_points)\n",
    "        times_np = np.hstack([times[:, None]])\n",
    "        #times = torch.from_numpy(times_np[:, :, None])\n",
    "        data = torch.from_numpy(data[:, None, :].astype(np.float32))\n",
    "\n",
    "        indeces = np.random.choice(range(T),int(fraction*T),replace=False)\n",
    "        indeces = np.sort(indeces)\n",
    "\n",
    "        data = compute_spline(data[indeces].squeeze().detach(), times[indeces], k=2,s=0)\n",
    "\n",
    "        from source.pcmci import pcmci\n",
    "        importlib.reload(utils)\n",
    "        graph = pcmci(data)\n",
    "        perf.append(utils.compare_graphs(GC, graph)) # tpr, fdr\n",
    "\n",
    "    print('TPR, FDR and AUC with', dt, 'time interval')\n",
    "    print(np.mean(np.reshape(perf,(-1, 3)),axis=0), np.std(np.reshape(perf,(-1, 3)),axis=0) )     "
   ]
  },
  {
   "cell_type": "markdown",
   "metadata": {},
   "source": [
    "## NGM"
   ]
  },
  {
   "cell_type": "code",
   "execution_count": null,
   "metadata": {},
   "outputs": [],
   "source": [
    "# NGM performance with sparse data\n",
    "import warnings\n",
    "warnings.filterwarnings(\"ignore\")\n",
    "for dt in [0.01,0.05,0.1,0.15,0.25]:\n",
    "    perf = []\n",
    "    for i in range(10):\n",
    "        # Simulate data\n",
    "        p = 10\n",
    "        T = 1000\n",
    "        num_points = T\n",
    "        data, GC= simulate_lorenz_96(p, T=T, delta_t=dt,sigma=0.05, F=10)\n",
    "\n",
    "        # format for NeuralODE\n",
    "        times = np.linspace(0, T, num_points)\n",
    "        times_np = np.hstack([times[:, None]])\n",
    "        times = torch.from_numpy(times_np[:, :, None].astype(np.float32))\n",
    "        data = torch.from_numpy(data[:, None, :].astype(np.float32))\n",
    "\n",
    "        import source.NMC as models\n",
    "        func = models.MLPODEF(dims=[p, 12, 1],GL_reg=0.1)\n",
    "        \n",
    "        # GL training\n",
    "        models.train(func,data,n_steps=1000,plot = False, plot_freq=20)\n",
    "        # AGL training\n",
    "        weights = func.group_weights()\n",
    "        func.GL_reg *= (1 / weights)\n",
    "        func.reset_parameters()\n",
    "        models.train(func,data,n_steps=1000,plot = False, plot_freq=20)\n",
    "        graph = func.causal_graph(w_threshold=0.1)\n",
    "        perf.append(utils.compare_graphs(GC, graph)) # tpr, fdr\n",
    "\n",
    "    print('Means and standard deviations for TPR, FDR and AUC with', dt, 'time interval')\n",
    "    print(np.mean(np.reshape(perf,(-1, 3)),axis=0), np.std(np.reshape(perf,(-1, 3)),axis=0) )     "
   ]
  },
  {
   "cell_type": "code",
   "execution_count": null,
   "metadata": {},
   "outputs": [],
   "source": [
    "# NGM performance with irregular data\n",
    "for fraction in [1, 0.7, 0.5, 0.3]:\n",
    "    perf = []\n",
    "    for i in range(10):\n",
    "        # Simulate data\n",
    "        p = 10\n",
    "        T = 3000\n",
    "        num_points = T\n",
    "        data, GC= simulate_lorenz_96(p, T=T, delta_t=0.05,sigma=0.05, F=5)\n",
    "\n",
    "        # format for NeuralODE\n",
    "        indeces = np.random.choice(range(T),int(fraction*T),replace=False)\n",
    "        indeces = np.sort(indeces)\n",
    "        times = np.linspace(0, T, num_points)\n",
    "        times_np = np.hstack([times[indeces, None]])\n",
    "        data = data[indeces,:]\n",
    "        times = torch.from_numpy(times_np[:, :, None])\n",
    "        data = torch.from_numpy(data[:, None, :].astype(np.float32))\n",
    "        \n",
    "        import source.NMC as models\n",
    "        func = models.MLPODEF(dims=[p, 12, 1],GL_reg=0.05)\n",
    "        models.train(func,data,n_steps=2000, horizon = 5, plot_freq=20, plot=True, irregular=True, times=times)\n",
    "        #weights = func.group_weights()\n",
    "        #func.GL_reg *= (1 / weights)\n",
    "        #func.reset_parameters()\n",
    "        #models.train(func,data,n_steps=1000,horizon = 5, plot_freq=20, plot=False, irregular=True, times=times)\n",
    "        graph = func.causal_graph(w_threshold=0.09)\n",
    "        print(graph)\n",
    "        perf.append(utils.compare_graphs(GC, graph)) # tpr, fdr\n",
    "\n",
    "    print('Means and standard deviations for TPR, FDR and AUC with', fraction, 'kept')\n",
    "    print(np.mean(np.reshape(perf,(-1, 3)),axis=0), np.std(np.reshape(perf,(-1, 3)),axis=0) )     "
   ]
  }
 ],
 "metadata": {
  "kernelspec": {
   "display_name": "Python 3 (ipykernel)",
   "language": "python",
   "name": "python3"
  },
  "language_info": {
   "codemirror_mode": {
    "name": "ipython",
    "version": 3
   },
   "file_extension": ".py",
   "mimetype": "text/x-python",
   "name": "python",
   "nbconvert_exporter": "python",
   "pygments_lexer": "ipython3",
   "version": "3.9.7"
  }
 },
 "nbformat": 4,
 "nbformat_minor": 4
}
